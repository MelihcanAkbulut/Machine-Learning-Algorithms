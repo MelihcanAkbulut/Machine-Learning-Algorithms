{
  "nbformat": 4,
  "nbformat_minor": 0,
  "metadata": {
    "colab": {
      "name": "KNNTable.ipynb",
      "provenance": [],
      "collapsed_sections": []
    },
    "kernelspec": {
      "display_name": "Python 3",
      "name": "python3"
    },
    "language_info": {
      "name": "python"
    }
  },
  "cells": [
    {
      "cell_type": "code",
      "metadata": {
        "id": "AFVQjpol3ysh"
      },
      "source": [
        "from sklearn.model_selection import train_test_split\n",
        "from sklearn.neighbors import KNeighborsClassifier\n",
        "from sklearn.metrics import plot_confusion_matrix\n",
        "from sklearn.feature_selection import SelectKBest\n",
        "from sklearn.preprocessing import MinMaxScaler\n",
        "from sklearn.preprocessing import LabelEncoder\n",
        "from sklearn.metrics import confusion_matrix\n",
        "from sklearn.metrics import accuracy_score\n",
        "from sklearn.feature_selection import chi2\n",
        "import matplotlib.pyplot as plt  \n",
        "import pandas as pd\n"
      ],
      "execution_count": null,
      "outputs": []
    },
    {
      "cell_type": "code",
      "metadata": {
        "colab": {
          "base_uri": "https://localhost:8080/"
        },
        "id": "UA6bv-lGXZho",
        "outputId": "02af82ff-c494-4f7f-b9c3-71e8b547ca0d"
      },
      "source": [
        "df = pd.read_csv('unsw_egitim.csv')\n",
        "\n",
        "df.drop(\"service\", axis='columns')\n",
        "df.drop(\"proto\", axis='columns')\n",
        "df.drop(\"state\", axis='columns')\n",
        "df.drop(\"attack_cat\", axis='columns')\n",
        "\n",
        "l2 = LabelEncoder()\n",
        "label1 = l2.fit_transform(df['service'])\n",
        "df[\"service\"] = label1\n",
        "label2 = l2.fit_transform(df['proto'])\n",
        "df[\"proto\"] = label2\n",
        "label3 = l2.fit_transform(df['state'])\n",
        "df[\"state\"] = label3\n",
        "label4 = l2.fit_transform(df['attack_cat'])\n",
        "df[\"attack_cat\"] = label4\n",
        "Egitim = df\n",
        "Egitim.pop(\"id\")"
      ],
      "execution_count": null,
      "outputs": [
        {
          "output_type": "execute_result",
          "data": {
            "text/plain": [
              "0              1\n",
              "1              2\n",
              "2              3\n",
              "3              4\n",
              "4              5\n",
              "           ...  \n",
              "175336    175337\n",
              "175337    175338\n",
              "175338    175339\n",
              "175339    175340\n",
              "175340    175341\n",
              "Name: id, Length: 175341, dtype: int64"
            ]
          },
          "metadata": {
            "tags": []
          },
          "execution_count": 2
        }
      ]
    },
    {
      "cell_type": "code",
      "metadata": {
        "id": "k0yf6rAI3zex"
      },
      "source": [
        "veri = Egitim.values\n",
        "X = veri[:,0:43]\n",
        "Y = veri[:,43]"
      ],
      "execution_count": null,
      "outputs": []
    },
    {
      "cell_type": "code",
      "metadata": {
        "id": "zGJMDLf_3zkM"
      },
      "source": [
        "# Veri Setini %70 eğitim %30 test şeklinde ayırdık\n",
        "x_train, x_test, y_train, y_test = train_test_split(X,Y,test_size=0.3, random_state = 0)"
      ],
      "execution_count": null,
      "outputs": []
    },
    {
      "cell_type": "code",
      "metadata": {
        "id": "SrnNDAQM3zzX"
      },
      "source": [
        "minMaxScaler = MinMaxScaler()\n",
        "minMaxScaler.fit(x_train)\n",
        "minMaxScaler.fit(x_test)\n",
        "x_train_norm = minMaxScaler.transform(x_train)\n",
        "x_test_norm = minMaxScaler.transform(x_test)"
      ],
      "execution_count": null,
      "outputs": []
    },
    {
      "cell_type": "code",
      "metadata": {
        "colab": {
          "base_uri": "https://localhost:8080/"
        },
        "id": "XQ091NhF3z43",
        "outputId": "55c0dcef-b767-4ef6-8379-2b2ced86c0ca"
      },
      "source": [
        "classifier = KNeighborsClassifier(n_neighbors=5, metric='minkowski',weights='distance',p=3)\n",
        "classifier.fit(x_train_norm, y_train)"
      ],
      "execution_count": null,
      "outputs": [
        {
          "output_type": "execute_result",
          "data": {
            "text/plain": [
              "KNeighborsClassifier(algorithm='auto', leaf_size=30, metric='minkowski',\n",
              "                     metric_params=None, n_jobs=None, n_neighbors=5, p=3,\n",
              "                     weights='distance')"
            ]
          },
          "metadata": {
            "tags": []
          },
          "execution_count": 6
        }
      ]
    },
    {
      "cell_type": "code",
      "metadata": {
        "id": "9fYr4KNj3z9Q"
      },
      "source": [
        "y_pred = classifier.predict(x_test_norm)"
      ],
      "execution_count": null,
      "outputs": []
    },
    {
      "cell_type": "code",
      "metadata": {
        "colab": {
          "base_uri": "https://localhost:8080/",
          "height": 346
        },
        "id": "E0wD2R7z30BF",
        "outputId": "ef3512b1-28d6-4f58-86ff-ce2edde0e762"
      },
      "source": [
        "matrix = plot_confusion_matrix(classifier, x_test_norm, y_test,values_format=\" \")\n",
        "matrix.ax_.set_title(\"Confusion Matrix\", color=\"black\")\n",
        "plt.show()  \n",
        "cm = confusion_matrix(y_test, y_pred)\n",
        "sensitivity1 = cm[0,0]/(cm[0,0]+cm[0,1])\n",
        "print('Sensitivity : ',sensitivity1)\n",
        "specificity1 = cm[1,1]/(cm[1,0]+cm[1,1])\n",
        "print('Specificity : ', specificity1)\n",
        "acc = accuracy_score(y_test, y_pred)\n",
        "print('Accuracy : ',acc)\n"
      ],
      "execution_count": null,
      "outputs": [
        {
          "output_type": "display_data",
          "data": {
            "image/png": "[encoded data removed]",
            "text/plain": [
              "<Figure size 432x288 with 2 Axes>"
            ]
          },
          "metadata": {
            "tags": [],
            "needs_background": "light"
          }
        },
        {
          "output_type": "stream",
          "text": [
            "Sensitivity :  0.9950874670500839\n",
            "Specificity :  0.9986633622009969\n",
            "Accuracy :  0.9975286580613273\n"
          ],
          "name": "stdout"
        }
      ]
    },
    {
      "cell_type": "code",
      "metadata": {
        "colab": {
          "base_uri": "https://localhost:8080/"
        },
        "id": "0rQfOEkB30KI",
        "outputId": "fe5ffc7d-b76f-49c4-8344-d3dc0dcac69a"
      },
      "source": [
        "# 5 komşu sayısı için minkowski metriği \n",
        "classifier = KNeighborsClassifier(n_neighbors=5, metric='minkowski',weights='distance',p=3)\n",
        "classifier.fit(x_train_norm, y_train)"
      ],
      "execution_count": null,
      "outputs": [
        {
          "output_type": "execute_result",
          "data": {
            "text/plain": [
              "KNeighborsClassifier(algorithm='auto', leaf_size=30, metric='minkowski',\n",
              "                     metric_params=None, n_jobs=None, n_neighbors=5, p=3,\n",
              "                     weights='distance')"
            ]
          },
          "metadata": {
            "tags": []
          },
          "execution_count": 9
        }
      ]
    },
    {
      "cell_type": "code",
      "metadata": {
        "id": "aScIdZTy30PE"
      },
      "source": [
        "y_pred = classifier.predict(x_test_norm)"
      ],
      "execution_count": null,
      "outputs": []
    },
    {
      "cell_type": "code",
      "metadata": {
        "colab": {
          "base_uri": "https://localhost:8080/",
          "height": 346
        },
        "id": "_uzEQ4gN30Sy",
        "outputId": "f68c821b-2923-4f8e-a075-0b689312adf3"
      },
      "source": [
        "matrix = plot_confusion_matrix(classifier, x_test_norm, y_test,values_format=\" \")\n",
        "matrix.ax_.set_title(\"Confusion Matrix\", color=\"black\")\n",
        "plt.show()  \n",
        "cm = confusion_matrix(y_test, y_pred)\n",
        "sensitivity1 = cm[0,0]/(cm[0,0]+cm[0,1])\n",
        "print('Sensitivity : ',sensitivity1)\n",
        "specificity1 = cm[1,1]/(cm[1,0]+cm[1,1])\n",
        "print('Specificity : ', specificity1)\n",
        "acc = accuracy_score(y_test, y_pred)\n",
        "print('Accuracy : ',acc)"
      ],
      "execution_count": null,
      "outputs": [
        {
          "output_type": "display_data",
          "data": {
            "image/png": "[encoded data removed]",
            "text/plain": [
              "<Figure size 432x288 with 2 Axes>"
            ]
          },
          "metadata": {
            "tags": [],
            "needs_background": "light"
          }
        },
        {
          "output_type": "stream",
          "text": [
            "Sensitivity :  0.9950874670500839\n",
            "Specificity :  0.9986633622009969\n",
            "Accuracy :  0.9975286580613273\n"
          ],
          "name": "stdout"
        }
      ]
    },
    {
      "cell_type": "code",
      "metadata": {
        "colab": {
          "base_uri": "https://localhost:8080/"
        },
        "id": "eJheoOXX30WP",
        "outputId": "f8b73cac-c6e8-4e4f-82f1-f9cf93b9c0ef"
      },
      "source": [
        "# 5 komşu sayısı için minkowski euclidean \n",
        "classifier = KNeighborsClassifier(n_neighbors=5, metric='euclidean',weights='distance',p=2)\n",
        "classifier.fit(x_train_norm, y_train)"
      ],
      "execution_count": null,
      "outputs": [
        {
          "output_type": "execute_result",
          "data": {
            "text/plain": [
              "KNeighborsClassifier(algorithm='auto', leaf_size=30, metric='euclidean',\n",
              "                     metric_params=None, n_jobs=None, n_neighbors=5, p=2,\n",
              "                     weights='distance')"
            ]
          },
          "metadata": {
            "tags": []
          },
          "execution_count": 12
        }
      ]
    },
    {
      "cell_type": "code",
      "metadata": {
        "id": "38lmG_8S4LGN"
      },
      "source": [
        "y_pred = classifier.predict(x_test_norm)"
      ],
      "execution_count": null,
      "outputs": []
    },
    {
      "cell_type": "code",
      "metadata": {
        "colab": {
          "base_uri": "https://localhost:8080/",
          "height": 346
        },
        "id": "Dim7_i_N4LJ4",
        "outputId": "af73fbcd-df98-426f-c538-8b767293751a"
      },
      "source": [
        "matrix = plot_confusion_matrix(classifier, x_test_norm, y_test,values_format=\" \")\n",
        "matrix.ax_.set_title(\"Confusion Matrix\", color=\"black\")\n",
        "plt.show()  \n",
        "cm = confusion_matrix(y_test, y_pred)\n",
        "sensitivity1 = cm[0,0]/(cm[0,0]+cm[0,1])\n",
        "print('Sensitivity : ',sensitivity1)\n",
        "specificity1 = cm[1,1]/(cm[1,0]+cm[1,1])\n",
        "print('Specificity : ', specificity1)\n",
        "acc = accuracy_score(y_test, y_pred)\n",
        "print('Accuracy : ',acc)"
      ],
      "execution_count": null,
      "outputs": [
        {
          "output_type": "display_data",
          "data": {
            "image/png": "[encoded data removed]",
            "text/plain": [
              "<Figure size 432x288 with 2 Axes>"
            ]
          },
          "metadata": {
            "tags": [],
            "needs_background": "light"
          }
        },
        {
          "output_type": "stream",
          "text": [
            "Sensitivity :  0.9955068296189792\n",
            "Specificity :  0.9988861351674975\n",
            "Accuracy :  0.9978138129004049\n"
          ],
          "name": "stdout"
        }
      ]
    },
    {
      "cell_type": "code",
      "metadata": {
        "colab": {
          "base_uri": "https://localhost:8080/"
        },
        "id": "gsyJh_FM4LNh",
        "outputId": "99f07177-0ab4-4aef-fb1c-e0c4390f3979"
      },
      "source": [
        "# 5 komşu sayısı için manhattan metriği \n",
        "classifier = KNeighborsClassifier(n_neighbors=5, metric='manhattan',weights='distance',p=1)\n",
        "classifier.fit(x_train_norm, y_train)"
      ],
      "execution_count": null,
      "outputs": [
        {
          "output_type": "execute_result",
          "data": {
            "text/plain": [
              "KNeighborsClassifier(algorithm='auto', leaf_size=30, metric='manhattan',\n",
              "                     metric_params=None, n_jobs=None, n_neighbors=5, p=1,\n",
              "                     weights='distance')"
            ]
          },
          "metadata": {
            "tags": []
          },
          "execution_count": 15
        }
      ]
    },
    {
      "cell_type": "code",
      "metadata": {
        "id": "bdyyIjkl4LTp"
      },
      "source": [
        "y_pred = classifier.predict(x_test_norm)"
      ],
      "execution_count": null,
      "outputs": []
    },
    {
      "cell_type": "code",
      "metadata": {
        "colab": {
          "base_uri": "https://localhost:8080/",
          "height": 346
        },
        "id": "Ig59Bksl4LjO",
        "outputId": "2b7a2977-fde8-407f-d4aa-7a32f466b2b1"
      },
      "source": [
        "matrix = plot_confusion_matrix(classifier, x_test_norm, y_test,values_format=\" \")\n",
        "matrix.ax_.set_title(\"Confusion Matrix\", color=\"black\")\n",
        "plt.show()  \n",
        "cm = confusion_matrix(y_test, y_pred)\n",
        "sensitivity1 = cm[0,0]/(cm[0,0]+cm[0,1])\n",
        "print('Sensitivity : ',sensitivity1)\n",
        "specificity1 = cm[1,1]/(cm[1,0]+cm[1,1])\n",
        "print('Specificity : ', specificity1)\n",
        "acc = accuracy_score(y_test, y_pred)\n",
        "print('Accuracy : ',acc)"
      ],
      "execution_count": null,
      "outputs": [
        {
          "output_type": "display_data",
          "data": {
            "image/png": "[encoded data removed]",
            "text/plain": [
              "<Figure size 432x288 with 2 Axes>"
            ]
          },
          "metadata": {
            "tags": [],
            "needs_background": "light"
          }
        },
        {
          "output_type": "stream",
          "text": [
            "Sensitivity :  0.9963455547567697\n",
            "Specificity :  0.9991367547548105\n",
            "Accuracy :  0.9982510503203239\n"
          ],
          "name": "stdout"
        }
      ]
    },
    {
      "cell_type": "code",
      "metadata": {
        "id": "hYGiYv_YPANm"
      },
      "source": [
        "# En yüksek doğruluk manhattan da olduğundan komşu sayılarını değiştirerek denedim \n",
        "classifier = KNeighborsClassifier(n_neighbors=3, metric='manhattan',weights='distance')\n",
        "classifier.fit(x_train_norm, y_train)\n",
        "y_pred = classifier.predict(x_test_norm)"
      ],
      "execution_count": null,
      "outputs": []
    },
    {
      "cell_type": "code",
      "metadata": {
        "colab": {
          "base_uri": "https://localhost:8080/",
          "height": 346
        },
        "id": "-0GJcSq1PAce",
        "outputId": "982eb385-245f-445a-87bd-3c46786806ef"
      },
      "source": [
        "matrix = plot_confusion_matrix(classifier, x_test_norm, y_test,values_format=\" \")\n",
        "matrix.ax_.set_title(\"Confusion Matrix\", color=\"black\")\n",
        "plt.show()  \n",
        "cm = confusion_matrix(y_test, y_pred)\n",
        "sensitivity1 = cm[0,0]/(cm[0,0]+cm[0,1])\n",
        "print('Sensitivity : ',sensitivity1)\n",
        "specificity1 = cm[1,1]/(cm[1,0]+cm[1,1])\n",
        "print('Specificity : ', specificity1)\n",
        "acc = accuracy_score(y_test, y_pred)\n",
        "print('Accuracy : ',acc)"
      ],
      "execution_count": null,
      "outputs": [
        {
          "output_type": "display_data",
          "data": {
            "image/png": "[encoded data removed]",
            "text/plain": [
              "<Figure size 432x288 with 2 Axes>"
            ]
          },
          "metadata": {
            "tags": [],
            "needs_background": "light"
          }
        },
        {
          "output_type": "stream",
          "text": [
            "Sensitivity :  0.9965851905104242\n",
            "Specificity :  0.9991089081339979\n",
            "Accuracy :  0.9983080812881394\n"
          ],
          "name": "stdout"
        }
      ]
    },
    {
      "cell_type": "code",
      "metadata": {
        "id": "_Jf8VzqAPAnV"
      },
      "source": [
        "classifier = KNeighborsClassifier(n_neighbors=7, metric='manhattan',weights='distance')\n",
        "classifier.fit(x_train_norm, y_train)\n",
        "y_pred = classifier.predict(x_test_norm)"
      ],
      "execution_count": null,
      "outputs": []
    },
    {
      "cell_type": "code",
      "metadata": {
        "colab": {
          "base_uri": "https://localhost:8080/",
          "height": 346
        },
        "id": "0FMM2JycPNKX",
        "outputId": "ca145de8-caed-4b3c-c507-4a40b9b3512d"
      },
      "source": [
        "matrix = plot_confusion_matrix(classifier, x_test_norm, y_test,values_format=\" \")\n",
        "matrix.ax_.set_title(\"Confusion Matrix\", color=\"black\")\n",
        "plt.show()  \n",
        "cm = confusion_matrix(y_test, y_pred)\n",
        "sensitivity1 = cm[0,0]/(cm[0,0]+cm[0,1])\n",
        "print('Sensitivity : ',sensitivity1)\n",
        "specificity1 = cm[1,1]/(cm[1,0]+cm[1,1])\n",
        "print('Specificity : ', specificity1)\n",
        "acc = accuracy_score(y_test, y_pred)\n",
        "print('Accuracy : ',acc)"
      ],
      "execution_count": null,
      "outputs": [
        {
          "output_type": "display_data",
          "data": {
            "image/png": "[encoded data removed]",
            "text/plain": [
              "<Figure size 432x288 with 2 Axes>"
            ]
          },
          "metadata": {
            "tags": [],
            "needs_background": "light"
          }
        },
        {
          "output_type": "stream",
          "text": [
            "Sensitivity :  0.9960460100647016\n",
            "Specificity :  0.9990810615131853\n",
            "Accuracy :  0.9981179780620877\n"
          ],
          "name": "stdout"
        }
      ]
    },
    {
      "cell_type": "code",
      "metadata": {
        "id": "pNqI1c0TPNRX"
      },
      "source": [
        "# selectKBest ile veri setinden en iyi 20 öznitelik seçildi\n",
        "select_feature = SelectKBest(chi2, k=20).fit(x_train_norm, y_train)\n",
        "x_train_k = select_feature.transform(x_train_norm)\n",
        "x_test_k = select_feature.transform(x_test_norm)"
      ],
      "execution_count": null,
      "outputs": []
    },
    {
      "cell_type": "code",
      "metadata": {
        "colab": {
          "base_uri": "https://localhost:8080/"
        },
        "id": "WlTzE9siRQC2",
        "outputId": "2a8680db-73b6-4f59-8d5c-b0a34383dc5e"
      },
      "source": [
        "classifier = KNeighborsClassifier(n_neighbors=3, metric='manhattan',weights='distance')\n",
        "classifier.fit(x_train_k, y_train)"
      ],
      "execution_count": null,
      "outputs": [
        {
          "output_type": "execute_result",
          "data": {
            "text/plain": [
              "KNeighborsClassifier(algorithm='auto', leaf_size=30, metric='manhattan',\n",
              "                     metric_params=None, n_jobs=None, n_neighbors=3, p=2,\n",
              "                     weights='distance')"
            ]
          },
          "metadata": {
            "tags": []
          },
          "execution_count": 23
        }
      ]
    },
    {
      "cell_type": "code",
      "metadata": {
        "id": "w0Htqn6tRQH_"
      },
      "source": [
        "y_pred = classifier.predict(x_test_k)"
      ],
      "execution_count": null,
      "outputs": []
    },
    {
      "cell_type": "code",
      "metadata": {
        "colab": {
          "base_uri": "https://localhost:8080/",
          "height": 346
        },
        "id": "Mqr4A6dkRQMd",
        "outputId": "c3d09798-ad02-4996-e969-a8824738348c"
      },
      "source": [
        "matrix = plot_confusion_matrix(classifier, x_test_k, y_test,values_format=\" \")\n",
        "matrix.ax_.set_title(\"Confusion Matrix\", color=\"black\")\n",
        "plt.show()  \n",
        "cm = confusion_matrix(y_test, y_pred)\n",
        "sensitivity1 = cm[0,0]/(cm[0,0]+cm[0,1])\n",
        "print('Sensitivity : ',sensitivity1)\n",
        "specificity1 = cm[1,1]/(cm[1,0]+cm[1,1])\n",
        "print('Specificity : ', specificity1)\n",
        "acc = accuracy_score(y_test, y_pred)\n",
        "print('Accuracy : ',acc)"
      ],
      "execution_count": null,
      "outputs": [
        {
          "output_type": "display_data",
          "data": {
            "image/png": "[encoded data removed]",
            "text/plain": [
              "<Figure size 432x288 with 2 Axes>"
            ]
          },
          "metadata": {
            "tags": [],
            "needs_background": "light"
          }
        },
        {
          "output_type": "stream",
          "text": [
            "Sensitivity :  0.9980829139707644\n",
            "Specificity :  0.9992759878588733\n",
            "Accuracy :  0.9988974012888999\n"
          ],
          "name": "stdout"
        }
      ]
    },
    {
      "cell_type": "code",
      "metadata": {
        "colab": {
          "base_uri": "https://localhost:8080/"
        },
        "id": "CDRNKgKlSBRm",
        "outputId": "08f99aff-ceb9-4a0e-8f0c-d0f3d3682a25"
      },
      "source": [
        "classifier = KNeighborsClassifier(n_neighbors=1, metric='manhattan',weights='distance')\n",
        "classifier.fit(x_train_k, y_train)"
      ],
      "execution_count": null,
      "outputs": [
        {
          "output_type": "execute_result",
          "data": {
            "text/plain": [
              "KNeighborsClassifier(algorithm='auto', leaf_size=30, metric='manhattan',\n",
              "                     metric_params=None, n_jobs=None, n_neighbors=1, p=2,\n",
              "                     weights='distance')"
            ]
          },
          "metadata": {
            "tags": []
          },
          "execution_count": 26
        }
      ]
    },
    {
      "cell_type": "code",
      "metadata": {
        "id": "pslvIjZhSBZF"
      },
      "source": [
        "y_pred = classifier.predict(x_test_k)\n",
        "x_pred = classifier.predict(x_train_k)"
      ],
      "execution_count": null,
      "outputs": []
    },
    {
      "cell_type": "code",
      "metadata": {
        "colab": {
          "base_uri": "https://localhost:8080/",
          "height": 346
        },
        "id": "LQbAFCfGSBl2",
        "outputId": "3aa2e8d2-a708-4b13-eed1-330486814cd4"
      },
      "source": [
        "matrix = plot_confusion_matrix(classifier, x_test_k, y_test,values_format=\" \")\n",
        "matrix.ax_.set_title(\"Confusion Matrix\", color=\"black\")\n",
        "plt.show()  \n",
        "cm = confusion_matrix(y_test, y_pred)\n",
        "sensitivity1 = cm[0,0]/(cm[0,0]+cm[0,1])\n",
        "print('Sensitivity : ',sensitivity1)\n",
        "specificity1 = cm[1,1]/(cm[1,0]+cm[1,1])\n",
        "print('Specificity : ', specificity1)\n",
        "acc = accuracy_score(y_test, y_pred)\n",
        "print('Accuracy : ',acc)"
      ],
      "execution_count": null,
      "outputs": [
        {
          "output_type": "display_data",
          "data": {
            "image/png": "[encoded data removed]",
            "text/plain": [
              "<Figure size 432x288 with 2 Axes>"
            ]
          },
          "metadata": {
            "tags": [],
            "needs_background": "light"
          }
        },
        {
          "output_type": "stream",
          "text": [
            "Sensitivity :  0.9986820033549005\n",
            "Specificity :  0.999164601375623\n",
            "Accuracy :  0.9990114632245309\n"
          ],
          "name": "stdout"
        }
      ]
    },
    {
      "cell_type": "code",
      "metadata": {
        "colab": {
          "base_uri": "https://localhost:8080/",
          "height": 346
        },
        "id": "evJaio9KSBu0",
        "outputId": "33d84b39-231f-4fe5-cfc9-8956a60bf810"
      },
      "source": [
        "# Eğitim doğruluk oranı\n",
        "matrix = plot_confusion_matrix(classifier, x_train_k, y_train,values_format=\" \")\n",
        "matrix.ax_.set_title(\"Confusion Matrix\", color=\"black\")\n",
        "plt.show()  \n",
        "sensitivity1 = cm[0,0]/(cm[0,0]+cm[0,1])\n",
        "print('Sensitivity : ',sensitivity1)\n",
        "specificity1 = cm[1,1]/(cm[1,0]+cm[1,1])\n",
        "print('Specificity : ', specificity1)\n",
        "acc = accuracy_score(y_train, x_pred)\n",
        "print('Accuracy : ',acc)\n"
      ],
      "execution_count": null,
      "outputs": [
        {
          "output_type": "display_data",
          "data": {
            "image/png": "[encoded data removed]",
            "text/plain": [
              "<Figure size 432x288 with 2 Axes>"
            ]
          },
          "metadata": {
            "tags": [],
            "needs_background": "light"
          }
        },
        {
          "output_type": "stream",
          "text": [
            "Sensitivity :  0.9986820033549005\n",
            "Specificity :  0.999164601375623\n",
            "Accuracy :  1.0\n"
          ],
          "name": "stdout"
        }
      ]
    },
    {
      "cell_type": "code",
      "metadata": {
        "id": "yliptaNGcLlW"
      },
      "source": [
        "classifier = KNeighborsClassifier(n_neighbors=3, metric='manhattan',weights='distance')\n",
        "classifier.fit(x_train_k, y_train)\n",
        "y_pred = classifier.predict(x_train_k)"
      ],
      "execution_count": null,
      "outputs": []
    },
    {
      "cell_type": "code",
      "metadata": {
        "colab": {
          "base_uri": "https://localhost:8080/",
          "height": 346
        },
        "id": "-Tii4AotcaK5",
        "outputId": "8645e52a-fc0b-467d-8ae9-1e0fb2937096"
      },
      "source": [
        "matrix = plot_confusion_matrix(classifier, x_train_k, y_train,values_format=\" \")\n",
        "matrix.ax_.set_title(\"Confusion Matrix\", color=\"black\")\n",
        "plt.show()  \n",
        "sensitivity1 = cm[0,0]/(cm[0,0]+cm[0,1])\n",
        "print('Sensitivity : ',sensitivity1)\n",
        "specificity1 = cm[1,1]/(cm[1,0]+cm[1,1])\n",
        "print('Specificity : ', specificity1)\n",
        "acc = accuracy_score(y_train, y_pred)\n",
        "print('Accuracy : ',acc)\n"
      ],
      "execution_count": null,
      "outputs": [
        {
          "output_type": "display_data",
          "data": {
            "image/png": "[encoded data removed]",
            "text/plain": [
              "<Figure size 432x288 with 2 Axes>"
            ]
          },
          "metadata": {
            "tags": [],
            "needs_background": "light"
          }
        },
        {
          "output_type": "stream",
          "text": [
            "Sensitivity :  0.9986820033549005\n",
            "Specificity :  0.999164601375623\n",
            "Accuracy :  1.0\n"
          ],
          "name": "stdout"
        }
      ]
    },
    {
      "cell_type": "code",
      "metadata": {
        "id": "kxS8HIyvGsss"
      },
      "source": [
        "# Rapor ve sunum için aşağıda ki default kodları baz aldım"
      ],
      "execution_count": null,
      "outputs": []
    },
    {
      "cell_type": "code",
      "metadata": {
        "id": "zdvU4iBcLhuC"
      },
      "source": [
        "classifier = KNeighborsClassifier(n_neighbors=3)\n",
        "classifier.fit(x_train_norm, y_train)\n",
        "y_pred = classifier.predict(x_test_norm)"
      ],
      "execution_count": null,
      "outputs": []
    },
    {
      "cell_type": "code",
      "metadata": {
        "colab": {
          "base_uri": "https://localhost:8080/",
          "height": 346
        },
        "id": "IxbrQ3xdLiD8",
        "outputId": "98e6249f-dae5-465c-f40f-eb4a739e6951"
      },
      "source": [
        "matrix = plot_confusion_matrix(classifier, x_test_norm, y_test,values_format=\" \")\n",
        "matrix.ax_.set_title(\"Confusion Matrix\", color=\"black\")\n",
        "plt.show()  \n",
        "sensitivity1 = cm[0,0]/(cm[0,0]+cm[0,1])\n",
        "print('Sensitivity : ',sensitivity1)\n",
        "specificity1 = cm[1,1]/(cm[1,0]+cm[1,1])\n",
        "print('Specificity : ', specificity1)\n",
        "acc = accuracy_score(y_test, y_pred)\n",
        "print('Accuracy : ',acc)\n"
      ],
      "execution_count": null,
      "outputs": [
        {
          "output_type": "display_data",
          "data": {
            "image/png": "[encoded data removed]",
            "text/plain": [
              "<Figure size 432x288 with 2 Axes>"
            ]
          },
          "metadata": {
            "tags": [],
            "needs_background": "light"
          }
        },
        {
          "output_type": "stream",
          "text": [
            "Sensitivity :  0.9986820033549005\n",
            "Specificity :  0.999164601375623\n",
            "Accuracy :  0.9977377716099842\n"
          ],
          "name": "stdout"
        }
      ]
    },
    {
      "cell_type": "code",
      "metadata": {
        "id": "f08xaiUiLxHA"
      },
      "source": [
        "classifier = KNeighborsClassifier(n_neighbors=1)\n",
        "classifier.fit(x_train_norm, y_train)\n",
        "y_pred = classifier.predict(x_test_norm)"
      ],
      "execution_count": null,
      "outputs": []
    },
    {
      "cell_type": "code",
      "metadata": {
        "colab": {
          "base_uri": "https://localhost:8080/",
          "height": 346
        },
        "id": "VaUozKqSL_Sw",
        "outputId": "e3e1cf9a-9342-4612-f364-60ce1e12e3d8"
      },
      "source": [
        "matrix = plot_confusion_matrix(classifier, x_test_norm, y_test,values_format=\" \")\n",
        "matrix.ax_.set_title(\"Confusion Matrix\", color=\"black\")\n",
        "plt.show()  \n",
        "sensitivity1 = cm[0,0]/(cm[0,0]+cm[0,1])\n",
        "print('Sensitivity : ',sensitivity1)\n",
        "specificity1 = cm[1,1]/(cm[1,0]+cm[1,1])\n",
        "print('Specificity : ', specificity1)\n",
        "acc = accuracy_score(y_test, y_pred)\n",
        "print('Accuracy : ',acc)\n"
      ],
      "execution_count": null,
      "outputs": [
        {
          "output_type": "display_data",
          "data": {
            "image/png": "[encoded data removed]",
            "text/plain": [
              "<Figure size 432x288 with 2 Axes>"
            ]
          },
          "metadata": {
            "tags": [],
            "needs_background": "light"
          }
        },
        {
          "output_type": "stream",
          "text": [
            "Sensitivity :  0.9986820033549005\n",
            "Specificity :  0.999164601375623\n",
            "Accuracy :  0.9984411535463756\n"
          ],
          "name": "stdout"
        }
      ]
    },
    {
      "cell_type": "code",
      "metadata": {
        "id": "0dLFSOJhL_Yw"
      },
      "source": [
        "classifier = KNeighborsClassifier(n_neighbors=7)\n",
        "classifier.fit(x_train_norm, y_train)\n",
        "y_pred = classifier.predict(x_test_norm)"
      ],
      "execution_count": null,
      "outputs": []
    },
    {
      "cell_type": "code",
      "metadata": {
        "colab": {
          "base_uri": "https://localhost:8080/",
          "height": 346
        },
        "id": "92BnUE17lUZC",
        "outputId": "ecd89f9d-9eee-4eea-b306-398856b5990f"
      },
      "source": [
        "matrix = plot_confusion_matrix(classifier, x_test_norm, y_test,values_format=\" \")\n",
        "matrix.ax_.set_title(\"Confusion Matrix\", color=\"black\")\n",
        "plt.show()  \n",
        "sensitivity1 = cm[0,0]/(cm[0,0]+cm[0,1])\n",
        "print('Sensitivity : ',sensitivity1)\n",
        "specificity1 = cm[1,1]/(cm[1,0]+cm[1,1])\n",
        "print('Specificity : ', specificity1)\n",
        "acc = accuracy_score(y_test, y_pred)\n",
        "print('Accuracy : ',acc)\n"
      ],
      "execution_count": null,
      "outputs": [
        {
          "output_type": "display_data",
          "data": {
            "image/png": "[encoded data removed]",
            "text/plain": [
              "<Figure size 432x288 with 2 Axes>"
            ]
          },
          "metadata": {
            "tags": [],
            "needs_background": "light"
          }
        },
        {
          "output_type": "stream",
          "text": [
            "Sensitivity :  0.9986820033549005\n",
            "Specificity :  0.999164601375623\n",
            "Accuracy :  0.9984411535463756\n"
          ],
          "name": "stdout"
        }
      ]
    }
  ]
}
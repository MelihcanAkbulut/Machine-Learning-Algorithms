{
  "nbformat": 4,
  "nbformat_minor": 0,
  "metadata": {
    "colab": {
      "name": "ANN.ipynb",
      "provenance": [],
      "collapsed_sections": []
    },
    "kernelspec": {
      "name": "python3",
      "display_name": "Python 3"
    },
    "language_info": {
      "name": "python"
    }
  },
  "cells": [
    {
      "cell_type": "code",
      "metadata": {
        "id": "Uqg2ZylPKtfQ"
      },
      "source": [
        "import pandas as pd\n",
        "from sklearn.preprocessing import LabelEncoder\n",
        "from sklearn.model_selection import train_test_split\n",
        "from sklearn.preprocessing import MinMaxScaler"
      ],
      "execution_count": 30,
      "outputs": []
    },
    {
      "cell_type": "code",
      "metadata": {
        "colab": {
          "base_uri": "https://localhost:8080/"
        },
        "id": "dRaxbElfLKYA",
        "outputId": "d1a5262b-8d2f-4ccc-b29e-981ec572f1d5"
      },
      "source": [
        "df = pd.read_csv('unsw_egitim.csv')\n",
        "\n",
        "df.drop(\"service\", axis='columns')\n",
        "df.drop(\"proto\", axis='columns')\n",
        "df.drop(\"state\", axis='columns')\n",
        "df.drop(\"attack_cat\", axis='columns')\n",
        "\n",
        "l2 = LabelEncoder()\n",
        "label1 = l2.fit_transform(df['service'])\n",
        "df[\"service\"] = label1\n",
        "label2 = l2.fit_transform(df['proto'])\n",
        "df[\"proto\"] = label2\n",
        "label3 = l2.fit_transform(df['state'])\n",
        "df[\"state\"] = label3\n",
        "label4 = l2.fit_transform(df['attack_cat'])\n",
        "df[\"attack_cat\"] = label4\n",
        "Egitim = df\n",
        "Egitim.pop(\"id\")\n",
        "print(Egitim)"
      ],
      "execution_count": 31,
      "outputs": [
        {
          "output_type": "stream",
          "text": [
            "             dur  proto  service  ...  is_sm_ips_ports  attack_cat  label\n",
            "0       0.121478    113        0  ...                0           6      0\n",
            "1       0.649902    113        0  ...                0           6      0\n",
            "2       1.623129    113        0  ...                0           6      0\n",
            "3       1.681642    113        3  ...                0           6      0\n",
            "4       0.449454    113        0  ...                0           6      0\n",
            "...          ...    ...      ...  ...              ...         ...    ...\n",
            "175336  0.000009    119        2  ...                0           5      1\n",
            "175337  0.505762    113        0  ...                0           8      1\n",
            "175338  0.000009    119        2  ...                0           5      1\n",
            "175339  0.000009    119        2  ...                0           5      1\n",
            "175340  0.000009    119        2  ...                0           5      1\n",
            "\n",
            "[175341 rows x 44 columns]\n"
          ],
          "name": "stdout"
        }
      ]
    },
    {
      "cell_type": "code",
      "metadata": {
        "id": "_3i3vPkKLKbY"
      },
      "source": [
        "veri = Egitim.values\n",
        "X = veri[:,0:43]\n",
        "Y = veri[:,43]"
      ],
      "execution_count": 32,
      "outputs": []
    },
    {
      "cell_type": "code",
      "metadata": {
        "id": "y5E0QPQiLKey"
      },
      "source": [
        "x_train, x_test, y_train, y_test = train_test_split(X,Y,test_size=0.3, random_state = 0)"
      ],
      "execution_count": 33,
      "outputs": []
    },
    {
      "cell_type": "code",
      "metadata": {
        "id": "PcgGRb1lLKjB",
        "colab": {
          "base_uri": "https://localhost:8080/"
        },
        "outputId": "39062338-debb-444f-c44d-75a037ecaa2b"
      },
      "source": [
        "minMaxScaler = MinMaxScaler()\n",
        "minMaxScaler.fit(x_train)\n",
        "minMaxScaler.fit(x_train)\n",
        "x_train_norm = minMaxScaler.transform(x_train)\n",
        "x_test_norm = minMaxScaler.transform(x_test)\n",
        "print(x_train_norm)"
      ],
      "execution_count": 34,
      "outputs": [
        {
          "output_type": "stream",
          "text": [
            "[[9.69663511e-03 8.56060606e-01 0.00000000e+00 ... 6.55737705e-02\n",
            "  0.00000000e+00 6.66666667e-01]\n",
            " [1.50000028e-07 9.01515152e-01 1.66666667e-01 ... 4.91803279e-01\n",
            "  0.00000000e+00 5.55555556e-01]\n",
            " [4.90055090e-03 8.56060606e-01 3.33333333e-01 ... 8.19672131e-02\n",
            "  0.00000000e+00 6.66666667e-01]\n",
            " ...\n",
            " [1.73792699e-02 8.56060606e-01 4.16666667e-01 ... 0.00000000e+00\n",
            "  0.00000000e+00 5.55555556e-01]\n",
            " [1.50000028e-07 9.01515152e-01 1.66666667e-01 ... 3.44262295e-01\n",
            "  0.00000000e+00 5.55555556e-01]\n",
            " [1.72764532e-02 8.56060606e-01 0.00000000e+00 ... 1.63934426e-02\n",
            "  0.00000000e+00 6.66666667e-01]]\n"
          ],
          "name": "stdout"
        }
      ]
    },
    {
      "cell_type": "code",
      "metadata": {
        "id": "IS1b7oq-LKms"
      },
      "source": [
        "import keras\n",
        "import tensorflow as tf\n",
        "from keras.models import Sequential\n",
        "from keras.layers import Dense"
      ],
      "execution_count": 35,
      "outputs": []
    },
    {
      "cell_type": "code",
      "metadata": {
        "colab": {
          "base_uri": "https://localhost:8080/"
        },
        "id": "WVEssFWBLKrE",
        "outputId": "3f063b4d-64d7-468a-84b7-0624723225d5"
      },
      "source": [
        "#learning_rate=0.001,\n",
        "classifier = Sequential()\n",
        "\n",
        "classifier.add(Dense(22,kernel_initializer=\"normal\", activation = 'relu', input_dim=43))\n",
        "\n",
        "classifier.add(Dense(22,kernel_initializer=\"normal\", activation = 'relu'))\n",
        "\n",
        "classifier.add(Dense(1,kernel_initializer=\"normal\", activation = 'sigmoid'))\n",
        "\n",
        "classifier.compile(optimizer= 'adam', loss = 'binary_crossentropy', metrics = ['accuracy',])\n",
        "\n",
        "classifier.fit(x_train, y_train ,epochs = 10)\n",
        "\n"
      ],
      "execution_count": 36,
      "outputs": [
        {
          "output_type": "stream",
          "text": [
            "Epoch 1/10\n",
            "3836/3836 [==============================] - 5s 1ms/step - loss: 30420.4695 - accuracy: 0.7442\n",
            "Epoch 2/10\n",
            "3836/3836 [==============================] - 5s 1ms/step - loss: 303.5273 - accuracy: 0.7821\n",
            "Epoch 3/10\n",
            "3836/3836 [==============================] - 5s 1ms/step - loss: 0.4451 - accuracy: 0.7617\n",
            "Epoch 4/10\n",
            "3836/3836 [==============================] - 5s 1ms/step - loss: 0.7156 - accuracy: 0.7609\n",
            "Epoch 5/10\n",
            "3836/3836 [==============================] - 5s 1ms/step - loss: 0.5635 - accuracy: 0.7596\n",
            "Epoch 6/10\n",
            "3836/3836 [==============================] - 5s 1ms/step - loss: 1.5630 - accuracy: 0.7587\n",
            "Epoch 7/10\n",
            "3836/3836 [==============================] - 5s 1ms/step - loss: 0.5466 - accuracy: 0.7454\n",
            "Epoch 8/10\n",
            "3836/3836 [==============================] - 5s 1ms/step - loss: 0.6016 - accuracy: 0.7024\n",
            "Epoch 9/10\n",
            "3836/3836 [==============================] - 5s 1ms/step - loss: 0.5991 - accuracy: 0.7034\n",
            "Epoch 10/10\n",
            "3836/3836 [==============================] - 5s 1ms/step - loss: 0.8792 - accuracy: 0.7020\n"
          ],
          "name": "stdout"
        },
        {
          "output_type": "execute_result",
          "data": {
            "text/plain": [
              "<tensorflow.python.keras.callbacks.History at 0x7f64415bae90>"
            ]
          },
          "metadata": {
            "tags": []
          },
          "execution_count": 36
        }
      ]
    },
    {
      "cell_type": "code",
      "metadata": {
        "colab": {
          "base_uri": "https://localhost:8080/"
        },
        "id": "-aTCzh41LaTQ",
        "outputId": "1961350e-cc11-4645-dfe5-20544d37baff"
      },
      "source": [
        "classifier.evaluate(x_test,y_test)"
      ],
      "execution_count": 37,
      "outputs": [
        {
          "output_type": "stream",
          "text": [
            "1644/1644 [==============================] - 2s 852us/step - loss: 0.5519 - accuracy: 0.7442\n"
          ],
          "name": "stdout"
        },
        {
          "output_type": "execute_result",
          "data": {
            "text/plain": [
              "[0.5518932938575745, 0.744235098361969]"
            ]
          },
          "metadata": {
            "tags": []
          },
          "execution_count": 37
        }
      ]
    },
    {
      "cell_type": "code",
      "metadata": {
        "colab": {
          "base_uri": "https://localhost:8080/"
        },
        "id": "VfRnkeKLTb7D",
        "outputId": "6a85f464-9dea-4299-b574-d0e40278fb12"
      },
      "source": [
        "classifier = Sequential()\n",
        "\n",
        "classifier.add(Dense(10,kernel_initializer=\"normal\", activation = 'relu', input_dim=43))\n",
        "\n",
        "classifier.add(Dense(5,kernel_initializer=\"normal\", activation = 'relu'))\n",
        "\n",
        "classifier.add(Dense(1,kernel_initializer=\"normal\", activation = 'sigmoid'))\n",
        "\n",
        "classifier.compile(optimizer= 'adam', loss = 'binary_crossentropy', metrics = ['accuracy'])\n",
        "\n",
        "classifier.fit(x_train_norm, y_train ,epochs = 10)"
      ],
      "execution_count": 38,
      "outputs": [
        {
          "output_type": "stream",
          "text": [
            "Epoch 1/10\n",
            "3836/3836 [==============================] - 5s 1ms/step - loss: 0.2785 - accuracy: 0.8780\n",
            "Epoch 2/10\n",
            "3836/3836 [==============================] - 4s 1ms/step - loss: 0.1199 - accuracy: 0.9389\n",
            "Epoch 3/10\n",
            "3836/3836 [==============================] - 4s 1ms/step - loss: 0.1182 - accuracy: 0.9407\n",
            "Epoch 4/10\n",
            "3836/3836 [==============================] - 4s 1ms/step - loss: 0.1175 - accuracy: 0.9427\n",
            "Epoch 5/10\n",
            "3836/3836 [==============================] - 4s 1ms/step - loss: 0.1153 - accuracy: 0.9443\n",
            "Epoch 6/10\n",
            "3836/3836 [==============================] - 4s 1ms/step - loss: 0.1143 - accuracy: 0.9440\n",
            "Epoch 7/10\n",
            "3836/3836 [==============================] - 4s 1ms/step - loss: 0.1148 - accuracy: 0.9436\n",
            "Epoch 8/10\n",
            "3836/3836 [==============================] - 4s 1ms/step - loss: 0.1166 - accuracy: 0.9430\n",
            "Epoch 9/10\n",
            "3836/3836 [==============================] - 4s 1ms/step - loss: 0.1154 - accuracy: 0.9447\n",
            "Epoch 10/10\n",
            "3836/3836 [==============================] - 4s 1ms/step - loss: 0.1161 - accuracy: 0.9437\n"
          ],
          "name": "stdout"
        },
        {
          "output_type": "execute_result",
          "data": {
            "text/plain": [
              "<tensorflow.python.keras.callbacks.History at 0x7f64403e2510>"
            ]
          },
          "metadata": {
            "tags": []
          },
          "execution_count": 38
        }
      ]
    },
    {
      "cell_type": "code",
      "metadata": {
        "colab": {
          "base_uri": "https://localhost:8080/"
        },
        "id": "7SnoGkCYTcEt",
        "outputId": "cfd7c9fd-1b2e-4aa3-d24a-b50af5fd5b53"
      },
      "source": [
        "classifier.evaluate(x_test_norm,y_test)"
      ],
      "execution_count": 39,
      "outputs": [
        {
          "output_type": "stream",
          "text": [
            "1644/1644 [==============================] - 1s 818us/step - loss: 0.1141 - accuracy: 0.9460\n"
          ],
          "name": "stdout"
        },
        {
          "output_type": "execute_result",
          "data": {
            "text/plain": [
              "[0.1141105368733406, 0.9459726810455322]"
            ]
          },
          "metadata": {
            "tags": []
          },
          "execution_count": 39
        }
      ]
    },
    {
      "cell_type": "code",
      "metadata": {
        "colab": {
          "base_uri": "https://localhost:8080/"
        },
        "id": "oYa_kYF0LaWW",
        "outputId": "f4cc363e-dc9c-417c-e8b4-87bef415cea8"
      },
      "source": [
        "classifier = Sequential()\n",
        "\n",
        "classifier.add(Dense(22,kernel_initializer=\"normal\", activation = 'relu', input_dim=43))\n",
        "\n",
        "classifier.add(Dense(22,kernel_initializer=\"normal\", activation = 'relu'))\n",
        "\n",
        "classifier.add(Dense(1,kernel_initializer=\"normal\", activation = 'sigmoid'))\n",
        "\n",
        "classifier.compile(optimizer= 'adam', loss = 'binary_crossentropy', metrics = ['accuracy'])\n",
        "\n",
        "classifier.fit(x_train_norm, y_train ,epochs = 10)\n",
        "\n"
      ],
      "execution_count": 40,
      "outputs": [
        {
          "output_type": "stream",
          "text": [
            "Epoch 1/10\n",
            "3836/3836 [==============================] - 5s 1ms/step - loss: 0.2142 - accuracy: 0.9022\n",
            "Epoch 2/10\n",
            "3836/3836 [==============================] - 5s 1ms/step - loss: 0.1032 - accuracy: 0.9546\n",
            "Epoch 3/10\n",
            "3836/3836 [==============================] - 5s 1ms/step - loss: 0.0805 - accuracy: 0.9666\n",
            "Epoch 4/10\n",
            "3836/3836 [==============================] - 5s 1ms/step - loss: 0.0421 - accuracy: 0.9843\n",
            "Epoch 5/10\n",
            "3836/3836 [==============================] - 5s 1ms/step - loss: 0.0153 - accuracy: 0.9961\n",
            "Epoch 6/10\n",
            "3836/3836 [==============================] - 5s 1ms/step - loss: 0.0051 - accuracy: 0.9990\n",
            "Epoch 7/10\n",
            "3836/3836 [==============================] - 5s 1ms/step - loss: 0.0038 - accuracy: 0.9992\n",
            "Epoch 8/10\n",
            "3836/3836 [==============================] - 5s 1ms/step - loss: 0.0026 - accuracy: 0.9994\n",
            "Epoch 9/10\n",
            "3836/3836 [==============================] - 5s 1ms/step - loss: 0.0022 - accuracy: 0.9995\n",
            "Epoch 10/10\n",
            "3836/3836 [==============================] - 5s 1ms/step - loss: 0.0022 - accuracy: 0.9995\n"
          ],
          "name": "stdout"
        },
        {
          "output_type": "execute_result",
          "data": {
            "text/plain": [
              "<tensorflow.python.keras.callbacks.History at 0x7f643f25dc10>"
            ]
          },
          "metadata": {
            "tags": []
          },
          "execution_count": 40
        }
      ]
    },
    {
      "cell_type": "code",
      "metadata": {
        "colab": {
          "base_uri": "https://localhost:8080/"
        },
        "id": "-LIyoMPjLkpy",
        "outputId": "42d14c75-099e-422d-c54b-c18a07c1be36"
      },
      "source": [
        "classifier.evaluate(x_test_norm,y_test)"
      ],
      "execution_count": 41,
      "outputs": [
        {
          "output_type": "stream",
          "text": [
            "1644/1644 [==============================] - 1s 830us/step - loss: 0.0012 - accuracy: 0.9997\n"
          ],
          "name": "stdout"
        },
        {
          "output_type": "execute_result",
          "data": {
            "text/plain": [
              "[0.0011957898968830705, 0.9996768236160278]"
            ]
          },
          "metadata": {
            "tags": []
          },
          "execution_count": 41
        }
      ]
    },
    {
      "cell_type": "code",
      "metadata": {
        "colab": {
          "base_uri": "https://localhost:8080/"
        },
        "id": "DXGuORAtZmr4",
        "outputId": "ac66ecf3-5864-4550-a6f1-5eb47862df98"
      },
      "source": [
        "classifier = Sequential()\n",
        "\n",
        "classifier.add(Dense(100,kernel_initializer=\"normal\", activation = 'relu', input_dim=43))\n",
        "\n",
        "classifier.add(Dense(200,kernel_initializer=\"normal\", activation = 'relu'))\n",
        "\n",
        "classifier.add(Dense(1,kernel_initializer=\"normal\", activation = 'sigmoid'))\n",
        "\n",
        "classifier.compile(optimizer= 'adam', loss = 'binary_crossentropy', metrics = ['accuracy'])\n",
        "\n",
        "classifier.fit(x_train_norm, y_train ,epochs = 10)\n"
      ],
      "execution_count": 42,
      "outputs": [
        {
          "output_type": "stream",
          "text": [
            "Epoch 1/10\n",
            "3836/3836 [==============================] - 6s 1ms/step - loss: 0.1358 - accuracy: 0.9419\n",
            "Epoch 2/10\n",
            "3836/3836 [==============================] - 5s 1ms/step - loss: 0.0182 - accuracy: 0.9942\n",
            "Epoch 3/10\n",
            "3836/3836 [==============================] - 5s 1ms/step - loss: 0.0047 - accuracy: 0.9989\n",
            "Epoch 4/10\n",
            "3836/3836 [==============================] - 5s 1ms/step - loss: 0.0030 - accuracy: 0.9992\n",
            "Epoch 5/10\n",
            "3836/3836 [==============================] - 6s 1ms/step - loss: 0.0017 - accuracy: 0.9996\n",
            "Epoch 6/10\n",
            "3836/3836 [==============================] - 5s 1ms/step - loss: 0.0018 - accuracy: 0.9994\n",
            "Epoch 7/10\n",
            "3836/3836 [==============================] - 5s 1ms/step - loss: 0.0011 - accuracy: 0.9996\n",
            "Epoch 8/10\n",
            "3836/3836 [==============================] - 5s 1ms/step - loss: 9.8493e-04 - accuracy: 0.9997\n",
            "Epoch 9/10\n",
            "3836/3836 [==============================] - 5s 1ms/step - loss: 0.0015 - accuracy: 0.9995\n",
            "Epoch 10/10\n",
            "3836/3836 [==============================] - 5s 1ms/step - loss: 3.0695e-04 - accuracy: 0.9999\n"
          ],
          "name": "stdout"
        },
        {
          "output_type": "execute_result",
          "data": {
            "text/plain": [
              "<tensorflow.python.keras.callbacks.History at 0x7f643f15e790>"
            ]
          },
          "metadata": {
            "tags": []
          },
          "execution_count": 42
        }
      ]
    },
    {
      "cell_type": "code",
      "metadata": {
        "colab": {
          "base_uri": "https://localhost:8080/"
        },
        "id": "oBO1aFn0Zmwk",
        "outputId": "083d82cf-7e0d-445d-a216-1b3afe17bad7"
      },
      "source": [
        "classifier.evaluate(x_test_norm,y_test)"
      ],
      "execution_count": 43,
      "outputs": [
        {
          "output_type": "stream",
          "text": [
            "1644/1644 [==============================] - 2s 878us/step - loss: 5.5521e-04 - accuracy: 0.9999\n"
          ],
          "name": "stdout"
        },
        {
          "output_type": "execute_result",
          "data": {
            "text/plain": [
              "[0.0005552124348469079, 0.9998859167098999]"
            ]
          },
          "metadata": {
            "tags": []
          },
          "execution_count": 43
        }
      ]
    }
  ]
}
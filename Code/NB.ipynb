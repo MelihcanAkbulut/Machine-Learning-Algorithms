{
  "nbformat": 4,
  "nbformat_minor": 0,
  "metadata": {
    "colab": {
      "name": "NB.ipynb",
      "provenance": [],
      "collapsed_sections": []
    },
    "kernelspec": {
      "name": "python3",
      "display_name": "Python 3"
    },
    "language_info": {
      "name": "python"
    }
  },
  "cells": [
    {
      "cell_type": "code",
      "metadata": {
        "colab": {
          "base_uri": "https://localhost:8080/"
        },
        "id": "nqYDprBFfuTx",
        "outputId": "57be07aa-89db-46b7-d7f8-4107e1f086e5"
      },
      "source": [
        "import pandas as pd\n",
        "from sklearn.preprocessing import LabelEncoder\n",
        "df = pd.read_csv('unsw_egitim.csv')\n",
        "\n",
        "df.drop(\"service\", axis='columns')\n",
        "df.drop(\"proto\", axis='columns')\n",
        "df.drop(\"state\", axis='columns')\n",
        "df.drop(\"attack_cat\", axis='columns')\n",
        "l2 = LabelEncoder()\n",
        "label1 = l2.fit_transform(df['service'])\n",
        "df[\"service\"] = label1\n",
        "label2 = l2.fit_transform(df['proto'])\n",
        "df[\"proto\"] = label2\n",
        "label3 = l2.fit_transform(df['state'])\n",
        "df[\"state\"] = label3\n",
        "label4 = l2.fit_transform(df['attack_cat'])\n",
        "df[\"attack_cat\"] = label4\n",
        "Egitim = df\n",
        "Egitim.pop(\"id\")\n",
        "print(Egitim)"
      ],
      "execution_count": 40,
      "outputs": [
        {
          "output_type": "stream",
          "text": [
            "             dur  proto  service  ...  is_sm_ips_ports  attack_cat  label\n",
            "0       0.121478    113        0  ...                0           6      0\n",
            "1       0.649902    113        0  ...                0           6      0\n",
            "2       1.623129    113        0  ...                0           6      0\n",
            "3       1.681642    113        3  ...                0           6      0\n",
            "4       0.449454    113        0  ...                0           6      0\n",
            "...          ...    ...      ...  ...              ...         ...    ...\n",
            "175336  0.000009    119        2  ...                0           5      1\n",
            "175337  0.505762    113        0  ...                0           8      1\n",
            "175338  0.000009    119        2  ...                0           5      1\n",
            "175339  0.000009    119        2  ...                0           5      1\n",
            "175340  0.000009    119        2  ...                0           5      1\n",
            "\n",
            "[175341 rows x 44 columns]\n"
          ],
          "name": "stdout"
        }
      ]
    },
    {
      "cell_type": "code",
      "metadata": {
        "id": "1oez29YqfvB9"
      },
      "source": [
        "veri = Egitim.values\n",
        "X = veri[:,0:43]\n",
        "Y = veri[:,43]"
      ],
      "execution_count": 41,
      "outputs": []
    },
    {
      "cell_type": "code",
      "metadata": {
        "id": "QzdE1ZhjfvJs"
      },
      "source": [
        "from sklearn.model_selection import train_test_split\n",
        "x_train, x_test, y_train, y_test = train_test_split(X,Y,test_size=0.3, random_state = 0)"
      ],
      "execution_count": 42,
      "outputs": []
    },
    {
      "cell_type": "code",
      "metadata": {
        "id": "DLnyAV8agRoj"
      },
      "source": [
        "from sklearn.preprocessing import MinMaxScaler\n",
        "minMaxScaler = MinMaxScaler()\n",
        "minMaxScaler.fit(x_train)\n",
        "x_train_norm = minMaxScaler.transform(x_train)\n",
        "x_test_norm = minMaxScaler.transform(x_test)"
      ],
      "execution_count": 43,
      "outputs": []
    },
    {
      "cell_type": "code",
      "metadata": {
        "id": "3RfXw6XjgRtN"
      },
      "source": [
        "from sklearn.naive_bayes import GaussianNB\n",
        "model = GaussianNB()\n",
        "y_pred = model.fit(x_train, y_train).predict(x_test)\n"
      ],
      "execution_count": 44,
      "outputs": []
    },
    {
      "cell_type": "code",
      "metadata": {
        "colab": {
          "base_uri": "https://localhost:8080/",
          "height": 346
        },
        "id": "9YROHa2HgRyZ",
        "outputId": "785bf4df-7a61-42fb-a0f1-06638a5d4c6d"
      },
      "source": [
        "from sklearn.metrics import accuracy_score\n",
        "from sklearn.metrics import confusion_matrix\n",
        "from sklearn.metrics import plot_confusion_matrix\n",
        "import matplotlib.pyplot as plt  \n",
        "matrix = plot_confusion_matrix(model, x_test, y_test,values_format=\" \")\n",
        "matrix.ax_.set_title(\"Confusion Matrix\", color=\"black\")\n",
        "plt.show()  \n",
        "cm = confusion_matrix(y_test, y_pred)\n",
        "sensitivity1 = cm[0,0]/(cm[0,0]+cm[0,1])\n",
        "print('Sensitivity : ',sensitivity1)\n",
        "specificity1 = cm[1,1]/(cm[1,0]+cm[1,1])\n",
        "print('Specificity : ', specificity1)\n",
        "acc = accuracy_score(y_test, y_pred)\n",
        "print('Accuracy : ',acc)"
      ],
      "execution_count": 45,
      "outputs": [
        {
          "output_type": "display_data",
          "data": {
            "image/png": "[encoded data removed]",
            "text/plain": [
              "<Figure size 432x288 with 2 Axes>"
            ]
          },
          "metadata": {
            "tags": [],
            "needs_background": "light"
          }
        },
        {
          "output_type": "stream",
          "text": [
            "Sensitivity :  0.6556434219985622\n",
            "Specificity :  0.8616858344239926\n",
            "Accuracy :  0.796304393285554\n"
          ],
          "name": "stdout"
        }
      ]
    },
    {
      "cell_type": "code",
      "metadata": {
        "id": "mG_rul75jXBQ"
      },
      "source": [
        "from sklearn.naive_bayes import GaussianNB\n",
        "model = GaussianNB()\n",
        "y_pred = model.fit(x_train_norm, y_train).predict(x_test_norm)"
      ],
      "execution_count": 46,
      "outputs": []
    },
    {
      "cell_type": "code",
      "metadata": {
        "colab": {
          "base_uri": "https://localhost:8080/",
          "height": 346
        },
        "id": "8lz_r6EqjXF1",
        "outputId": "7a8c8b87-3991-44ce-9141-957511fba693"
      },
      "source": [
        "matrix = plot_confusion_matrix(model, x_test_norm, y_test,values_format=\" \")\n",
        "matrix.ax_.set_title(\"Confusion Matrix\", color=\"black\")\n",
        "plt.show()  \n",
        "cm = confusion_matrix(y_test, y_pred)\n",
        "sensitivity1 = cm[0,0]/(cm[0,0]+cm[0,1])\n",
        "print('Sensitivity : ',sensitivity1)\n",
        "specificity1 = cm[1,1]/(cm[1,0]+cm[1,1])\n",
        "print('Specificity : ', specificity1)\n",
        "acc = accuracy_score(y_test, y_pred)\n",
        "print('Accuracy : ',acc)"
      ],
      "execution_count": 47,
      "outputs": [
        {
          "output_type": "display_data",
          "data": {
            "image/png": "[encoded data removed]",
            "text/plain": [
              "<Figure size 432x288 with 2 Axes>"
            ]
          },
          "metadata": {
            "tags": [],
            "needs_background": "light"
          }
        },
        {
          "output_type": "stream",
          "text": [
            "Sensitivity :  0.9230769230769231\n",
            "Specificity :  1.0\n",
            "Accuracy :  0.9755907457749557\n"
          ],
          "name": "stdout"
        }
      ]
    }
  ]
}